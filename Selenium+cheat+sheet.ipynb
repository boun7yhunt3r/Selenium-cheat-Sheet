{
 "cells": [
  {
   "cell_type": "markdown",
   "metadata": {},
   "source": [
    " Notebook contains basic and advanced Selenium commands  \n",
    "                                                             - Aravind R K(https://www.linkedin.com/in/aravind-r-k-739605122/)"
   ]
  },
  {
   "cell_type": "markdown",
   "metadata": {},
   "source": [
    "# Selenium Cheat Sheet"
   ]
  },
  {
   "cell_type": "markdown",
   "metadata": {},
   "source": [
    "### Basic"
   ]
  },
  {
   "cell_type": "markdown",
   "metadata": {},
   "source": [
    "WebDriver driver;  \n",
    "driver = new ChromeDriver();  \n",
    "driver = new FirefoxDriver();  \n",
    "driver = new SafariDriver();  "
   ]
  },
  {
   "cell_type": "markdown",
   "metadata": {},
   "source": [
    "### Locators "
   ]
  },
  {
   "cell_type": "markdown",
   "metadata": {},
   "source": [
    "By.id  \n",
    "By.name  \n",
    "By.className  \n",
    "By.tagName  \n",
    "By.linkText  \n",
    "By.partialLinkText  \n",
    "By,cssSelector  \n",
    "By.xpath  "
   ]
  },
  {
   "cell_type": "markdown",
   "metadata": {},
   "source": [
    "### Advanced"
   ]
  },
  {
   "cell_type": "markdown",
   "metadata": {},
   "source": [
    "FirefoxProfile  \n",
    "//Load firefox from a non default location.  \n",
    "System.setProperty(\"Webdriver.firefox.bin\",\"Path/to/firefox/binary\");  \n",
    "FirefoxProfile fp = new FirefoxProfile();  \n",
    "//Load with firefox addons  \n",
    "File file = new File(\"path/to/extension.xpi\")  \n",
    "fp.adExtension(Fie);  \n",
    "//Add aother settings on profile...  \n",
    "DesiredCapabilities dc = DesiredCapabilities.firefox();  \n",
    "dc.setCapability(FirefoxDriver.Profile, FP);  \n",
    "WebDriver driver = new RemoteWebDriver(dc);  "
   ]
  },
  {
   "cell_type": "markdown",
   "metadata": {},
   "source": [
    "### Chrome Options"
   ]
  },
  {
   "cell_type": "markdown",
   "metadata": {},
   "source": [
    "System.setProperty(\"webdriver.chrome.driver\",\"/path/to/chromedriver.exe”);  \n",
    "\n",
    "ChromeOptions  options -  new ChromeOptions();  \n",
    "File extnFile =  new File(\"/path/to/exrension.crx\");  \n",
    "options.addExtensions(extnFile);  \n",
    "DesiredCapabilities  dc = DesiredCapabilities.chrome();  \n",
    "dc.setCapability(ChromeOptions.CAPABILITY,options);  \n",
    "WebDriver driver =  new RemoteWebDriver(dc);  "
   ]
  },
  {
   "cell_type": "markdown",
   "metadata": {},
   "source": [
    "### Navigation"
   ]
  },
  {
   "cell_type": "markdown",
   "metadata": {},
   "source": [
    "// Navigate to Url  \n",
    "driver.get(\"URL\");  \n",
    "driver.navigate().to(\"URL\");  \n",
    "// Refresh page \n",
    "driver.navigate().refresh();  \n",
    "// Navigate forwards in browser history  \n",
    "driver.navigate.forward();  \n",
    "// Navigate backwards in browser history  \n",
    "driver.navigate().back();  "
   ]
  },
  {
   "cell_type": "markdown",
   "metadata": {},
   "source": [
    "### Operations"
   ]
  },
  {
   "cell_type": "markdown",
   "metadata": {},
   "source": [
    "WebElement element;  \n",
    "element.click();  \n",
    "elomont.sendkeys(\"String  to  typo\");  \n",
    "element.submit();  \n",
    "element.clear();  \n",
    "element.getText();  \n",
    "element-getAttribute(\"attribute\");  \n",
    "element,isDisplayed();  \n",
    "element.isSelected();  \n",
    "element,isEnabIed();  \n",
    "\n",
    "//List   \n",
    "Select select = new Select(element);    \n",
    "select.selectByVisibleTet(\"One\");  \n",
    "select.selectByValue(\"value1\");  \n",
    "select.selectbyIndex(1);  \n",
    "select.deselectAll();  \n",
    "select.selectAll();  \n",
    "\n",
    "WebDriver driver;  \n",
    "driver.getTitle();  \n",
    "driver.getCurrentUrl();  \n",
    "\n",
    "\n",
    "driver.getPageSource();  \n",
    "driver.close();  \n",
    "driver.quit();  \n",
    "\n",
    " \n",
    "driver,manage().window().maximize();   \n",
    "driver.manage().getCookies();  \n",
    "driver.manage().deIeteAllCookies();  \n",
    "drivel.manage().windOw().maximise();  \n",
    "driver-manage().deleteAllCoolcies();  "
   ]
  },
  {
   "cell_type": "markdown",
   "metadata": {},
   "source": [
    "### Windows"
   ]
  },
  {
   "cell_type": "markdown",
   "metadata": {},
   "source": [
    "String  handle = driver.getWindcwHandle();  \n",
    "Set<String>  handles =  getWindowHandles();  \n",
    "driver.switchTo.window(handle);  \n",
    "\n",
    "//Switch to newly created window  \n",
    "\n",
    "String  curWindow =  driver.getWindowHandle();  \n",
    "\n",
    "//Perform action to create new window  \n",
    "//get all window handles  \n",
    "\n",
    "Set<String> handles = getWindowHandle();  \n",
    "\n",
    "For(String handle : handles)  \n",
    "{  \n",
    "    if( !handle.equals (curWindow) )  \n",
    "    {  \n",
    "        driver.switchTo().window(handle);  \n",
    "    }  \n",
    "}  "
   ]
  },
  {
   "cell_type": "markdown",
   "metadata": {},
   "source": [
    "### Frames"
   ]
  },
  {
   "cell_type": "markdown",
   "metadata": {},
   "source": [
    "driver.switchTo().frame(1);  \n",
    "driver.switchTo().frame(\"name\");  \n",
    "driver.switchTo().frame(element);  \n",
    "driver.switchTo().defaultContent();  "
   ]
  },
  {
   "cell_type": "markdown",
   "metadata": {},
   "source": [
    "### Alerts"
   ]
  },
  {
   "cell_type": "markdown",
   "metadata": {},
   "source": [
    "driver.switchTo().alert().getText();  \n",
    "driver.switchTo().alert().accept();  \n",
    "driver.switchTo().alert().dismiss();  \n",
    "driver.switchTo().alert().sendKeys(\"Text\") ;  "
   ]
  },
  {
   "cell_type": "markdown",
   "metadata": {},
   "source": [
    "### Proxy"
   ]
  },
  {
   "cell_type": "markdown",
   "metadata": {},
   "source": [
    "String  PROXY =  \"localhost:8080\";  \n",
    "Proxy proxy = new Proxy();  \n",
    "proxy.setHttpProxy(PROXY)  \n",
    ".setFtpProxy(PPDXY)  \n",
    ".setSslProxy(PROXY);  \n",
    "DesiredCapabilities cap =  new DesiredCapabilities();  \n",
    "cap.setCapability(CapabilityType.PROXY,  proxy);  \n",
    "// set for  the  corresponding browser  \n",
    "WebDriver driver =  new  FirefoxDriver(cap);  \n",
    "WehDriver driver =  new ChromeDriver(cap);  "
   ]
  },
  {
   "cell_type": "markdown",
   "metadata": {},
   "source": [
    "### Selenium Grid"
   ]
  },
  {
   "cell_type": "markdown",
   "metadata": {},
   "source": [
    "Start hub\t:java -jar selenium-server-standalone-x.xx.x.jar -role hub  \n",
    "\n",
    "Start node : java -jar selenium-server-standalone-x.xx.x.jar -role node -hub http://localhost:4444/grid/register  \n",
    "\n",
    "Server : fittp./4ocaihost:4444/gnd/console  "
   ]
  },
  {
   "cell_type": "code",
   "execution_count": null,
   "metadata": {
    "collapsed": true
   },
   "outputs": [],
   "source": []
  }
 ],
 "metadata": {
  "kernelspec": {
   "display_name": "Python 3",
   "language": "python",
   "name": "python3"
  },
  "language_info": {
   "codemirror_mode": {
    "name": "ipython",
    "version": 3
   },
   "file_extension": ".py",
   "mimetype": "text/x-python",
   "name": "python",
   "nbconvert_exporter": "python",
   "pygments_lexer": "ipython3",
   "version": "3.6.2"
  }
 },
 "nbformat": 4,
 "nbformat_minor": 2
}
